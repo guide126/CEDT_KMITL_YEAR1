{
  "nbformat": 4,
  "nbformat_minor": 0,
  "metadata": {
    "colab": {
      "provenance": [],
      "include_colab_link": true
    },
    "kernelspec": {
      "name": "python3",
      "display_name": "Python 3"
    },
    "language_info": {
      "name": "python"
    }
  },
  "cells": [
    {
      "cell_type": "markdown",
      "metadata": {
        "id": "view-in-github",
        "colab_type": "text"
      },
      "source": [
        "<a href=\"https://colab.research.google.com/github/67015127/lab4/blob/main/Lab_4.ipynb\" target=\"_parent\"><img src=\"https://colab.research.google.com/assets/colab-badge.svg\" alt=\"Open In Colab\"/></a>"
      ]
    },
    {
      "cell_type": "markdown",
      "source": [
        "4.1 2520 คือ ตัวเลขที่น้อยที่สุด ที่สามารถหารด้วยตัวเลขทุกตัวตั้งแต่ 1-10 จงหาจำนวนเต็มบวกที่น้อยที่สุดที่หารด้วยตัวเลขทุกตัวตั้งแต่ 1-20\n",
        "\n",
        "15 = 360360\n",
        "\n",
        "20 = 232792560\n",
        "\n",
        "ปล. ห้าม import math"
      ],
      "metadata": {
        "id": "-bpz7hteQPdz"
      }
    },
    {
      "cell_type": "code",
      "execution_count": 2,
      "metadata": {
        "id": "HSZUXcF2QMVn",
        "colab": {
          "base_uri": "https://localhost:8080/"
        },
        "outputId": "bdda6120-980f-45ea-fe60-c1adbb4008a7"
      },
      "outputs": [
        {
          "output_type": "stream",
          "name": "stdout",
          "text": [
            "[360360]\n"
          ]
        }
      ],
      "source": [
        "most = []\n",
        "num = 2\n",
        "while len(most) == 0:\n",
        "    for i in range(1, 15):\n",
        "        if num % i != 0:\n",
        "            break\n",
        "    else:\n",
        "        most.append(num)\n",
        "    num += 1\n",
        "\n",
        "print(most)"
      ]
    },
    {
      "cell_type": "markdown",
      "source": [
        "4.2 จำนวนเฉพาะ (Prime Number) คือตัวเลขที่มีแต่ 1 กับตัวมันเองที่หารลงตัว โดยจำนวนเฉพาะ 6 ตัวแรกคือ 2, 3, 5, 7, 11, 13 โดยจำนวนเฉพาะตัวที่ 6 คือ 13 จงหาจำนวนเฉพาะตัวที่ 101\n",
        "\n",
        "=> 547"
      ],
      "metadata": {
        "id": "Wq1EFYHUWNOA"
      }
    },
    {
      "cell_type": "code",
      "source": [
        "k = 101\n",
        "primes = []\n",
        "num = 2\n",
        "\n",
        "while len(primes) < k:\n",
        "    prime = True\n",
        "    for i in range(2, int(num ** 0.5) + 1):\n",
        "        if num % i == 0:\n",
        "            prime = False\n",
        "            break\n",
        "    if prime:\n",
        "        primes.append(num)\n",
        "    num += 1\n",
        "\n",
        "print(primes[-1])"
      ],
      "metadata": {
        "colab": {
          "base_uri": "https://localhost:8080/"
        },
        "id": "cpMa6Vp0Vz_L",
        "outputId": "a506687a-e0f1-4515-e3f8-5b42662a51db"
      },
      "execution_count": null,
      "outputs": [
        {
          "output_type": "stream",
          "name": "stdout",
          "text": [
            "547\n"
          ]
        }
      ]
    },
    {
      "cell_type": "markdown",
      "source": [
        "1.\tกำหนดให้มี List หนึ่งประกอบด้วยตัวเลขจำนวนหนึ่ง และ ให้รับตัวเลขจำนวน 1 จำนวน จากนั้นให้หาว่าใน List มีตัวเลข 2 จำนวนใดที่บวกกันเท่ากับตัวเลขที่รับมา ให้แสดงคำตอบเป็น List เช่น Output: [0,1] โดยอาจมีมากกว่า 1 คำตอบ\n",
        "\n",
        "ตัวอย่าง list : [2, 7, 11, 15]\n",
        "\n",
        "Input : 9\n",
        "\n",
        "Output : 2 + 7 = 9 (ถ้าไม่มีให้บอก None)\n"
      ],
      "metadata": {
        "id": "-pUpw-m_WqFG"
      }
    },
    {
      "cell_type": "code",
      "source": [
        "input = 9\n",
        "list = [2, 7, 11, 15]\n",
        "list2 = []\n",
        "sum = 0\n",
        "for i in range(0,len(list)):\n",
        "  for j in range(0,len(list)):\n",
        "    sum = int(list[i])+int(list[j])\n",
        "    if sum == input :\n",
        "      if list[i] not in list2:\n",
        "         print(f\"{list[i]} + {list[j]} = {int(list[i])+int(list[j])}\")\n",
        "         list2.append(list[i])\n",
        "      if list[j] not in list2:\n",
        "        list2.append(list[j])\n",
        "      else:\n",
        "        continue\n",
        "if len(list2) > 0 :\n",
        "  print(list2)\n",
        "else :\n",
        "  print(\"NONE\")"
      ],
      "metadata": {
        "id": "s3djwBi4ks1g",
        "colab": {
          "base_uri": "https://localhost:8080/"
        },
        "outputId": "df7eb4ba-0608-4f32-d4ef-9f272a744c7d"
      },
      "execution_count": null,
      "outputs": [
        {
          "output_type": "stream",
          "name": "stdout",
          "text": [
            "2 + 7 = 9\n",
            "[2, 7]\n"
          ]
        }
      ]
    },
    {
      "cell_type": "markdown",
      "source": [
        "2.\tให้เขียนโปรแกรมรับข้อมูล 1 บรรทัด ประกอบด้วยตัวเลข 1 หลัก จำนวนไม่เกิน 10 ตัว คั่นด้วยช่องว่าง จากนั้นให้นำตัวเลขที่รับเข้ามาเรียงกัน และหาลำดับการเรียงที่ทำให้มีค่าน้อยที่สุด โดยต้องไม่ขึ้นต้นด้วย 0\n",
        "\n",
        "Input : 9 4 6 2  \n",
        "\n",
        "คำตอบ 2469\n",
        "\n",
        "Input : 3 0 8 1 3 3\n",
        "\n",
        "คำตอบ : 103338\n"
      ],
      "metadata": {
        "id": "_3yLG291lSFy"
      }
    },
    {
      "cell_type": "code",
      "source": [
        "input = '3 0 8 1 3 3'\n",
        "lstinput = input.split(\" \")\n",
        "if len(lstinput) > 10 :\n",
        "  print(\"your input are too long please try again\")\n",
        "lstinput.sort()\n",
        "while lstinput[0] == '0' :\n",
        "  lstinput.pop(0)\n",
        "  lstinput.insert(1,'0')\n",
        "print(\"\".join(lstinput))"
      ],
      "metadata": {
        "id": "ACtXvMEyli0L",
        "colab": {
          "base_uri": "https://localhost:8080/"
        },
        "outputId": "2f601fda-f785-4428-e618-fc37e79f46d6"
      },
      "execution_count": null,
      "outputs": [
        {
          "output_type": "stream",
          "name": "stdout",
          "text": [
            "103338\n"
          ]
        }
      ]
    },
    {
      "cell_type": "markdown",
      "source": [
        "3.\tจากตัวเลขต่อไปนี้ ตัวเลขติดกัน 4 ตัวที่เมื่อนำมาคูณกันแล้วมีค่ามากที่สุดคือ 9 × 9 × 8 × 9 = 5832\n",
        "\n",
        "73167176531330624919225119674426574742355349194934\n",
        "96983520312774506326239578318016984801869478851843\n",
        "85861560789112949495459501737958331952853208805511\n",
        "12540698747158523863050715693290963295227443043557\n",
        "66896648950445244523161731856403098711121722383113\n",
        "62229893423380308135336276614282806444486645238749\n",
        "30358907296290491560440772390713810515859307960866\n",
        "70172427121883998797908792274921901699720888093776\n",
        "65727333001053367881220235421809751254540594752243\n",
        "52584907711670556013604839586446706324415722155397\n",
        "53697817977846174064955149290862569321978468622482\n",
        "83972241375657056057490261407972968652414535100474\n",
        "82166370484403199890008895243450658541227588666881\n",
        "16427171479924442928230863465674813919123162824586\n",
        "17866458359124566529476545682848912883142607690042\n",
        "24219022671055626321111109370544217506941658960408\n",
        "07198403850962455444362981230987879927244284909188\n",
        "84580156166097919133875499200524063689912560717606\n",
        "05886116467109405077541002256983155200055935729725\n",
        "71636269561882670428252483600823257530420752963450\n",
        "\n",
        "จงหาเลขติดกัน 8 ตัวที่เมื่อนำมาคูณกันแล้วมีค่ามากที่สุด และเป็นเลขอะไร ผลคูณเท่ากับเท่าไร\n",
        "\n",
        "The maximum product is: 7838208\n",
        "The digits are: 88399879\n",
        "\n",
        "\n",
        "\n"
      ],
      "metadata": {
        "id": "Gv8aIY7dliSY"
      }
    },
    {
      "cell_type": "code",
      "source": [
        "number_string = '''73167176531330624919225119674426574742355349194934\n",
        "96983520312774506326239578318016984801869478851843\n",
        "85861560789112949495459501737958331952853208805511\n",
        "12540698747158523863050715693290963295227443043557\n",
        "66896648950445244523161731856403098711121722383113\n",
        "62229893423380308135336276614282806444486645238749\n",
        "30358907296290491560440772390713810515859307960866\n",
        "70172427121883998797908792274921901699720888093776\n",
        "65727333001053367881220235421809751254540594752243\n",
        "52584907711670556013604839586446706324415722155397\n",
        "53697817977846174064955149290862569321978468622482\n",
        "83972241375657056057490261407972968652414535100474\n",
        "82166370484403199890008895243450658541227588666881\n",
        "16427171479924442928230863465674813919123162824586\n",
        "17866458359124566529476545682848912883142607690042\n",
        "24219022671055626321111109370544217506941658960408\n",
        "07198403850962455444362981230987879927244284909188\n",
        "84580156166097919133875499200524063689912560717606\n",
        "05886116467109405077541002256983155200055935729725\n",
        "71636269561882670428252483600823257530420752963450'''\n",
        "number_string = number_string.replace('\\n', '')\n",
        "\n",
        "max_sum = 0\n",
        "max_digits = []\n",
        "\n",
        "for i in range(len(number_string) - 7):\n",
        "    digits = number_string[i:i+8]\n",
        "    product = 1\n",
        "    for digit in digits:\n",
        "        product *= int(digit)\n",
        "    if product > max_sum:\n",
        "        max_sum = product\n",
        "        max_digits = digits\n",
        "\n",
        "print(max_digits)\n",
        "print(max_sum)"
      ],
      "metadata": {
        "id": "wvVqGMknmBu5",
        "colab": {
          "base_uri": "https://localhost:8080/"
        },
        "outputId": "52e797cc-a82d-41bf-ad97-d80600e802aa"
      },
      "execution_count": null,
      "outputs": [
        {
          "output_type": "stream",
          "name": "stdout",
          "text": [
            "88399879\n",
            "7838208\n"
          ]
        }
      ]
    },
    {
      "cell_type": "markdown",
      "source": [
        "4.\tตัวเลข palindrome คือตัวเลขที่อ่านได้ทั้ง 2 ทาง แล้วมีค่าเท่ากัน เช่น 9009 โดย 9009 คือ palindrome ที่เกิดจากการคูณของตัวเลข 2 หลักที่มากที่สุด คือ 91x99 จงหา palindrome ที่มากที่สุดของตัวเลข 3 หลัก\n",
        "\n",
        "The largest palindrome product of 3-digit numbers is: 906609\n"
      ],
      "metadata": {
        "id": "fjy5LNC7m0We"
      }
    },
    {
      "cell_type": "code",
      "source": [
        "lim = 1000\n",
        "start = 900\n",
        "max = 0\n",
        "val = 0\n",
        "a = ''\n",
        "valinvert = ''\n",
        "for i in range(start,lim):\n",
        "    for j in range(start,lim):\n",
        "            val = i*j\n",
        "            valinvert = str(val)[::-1]\n",
        "            if valinvert == str(val) :\n",
        "                if max <  val :\n",
        "                    max = val\n",
        "                    a = f'{i} X {j} = {val}'\n",
        "            else :\n",
        "                continue\n",
        "print(max)\n",
        "print(a)\n",
        "for i in range(start*10,lim*10):\n",
        "    for j in range(start*10,lim*10):\n",
        "            val = i*j\n",
        "            valinvert = str(val)[::-1]\n",
        "            if valinvert == str(val) :\n",
        "                if max <  val :\n",
        "                    max = val\n",
        "                    a = f'{i} X {j} = {val}'\n",
        "            else :\n",
        "                continue\n",
        "print(max)\n",
        "print(a)\n",
        "for i in range(start*100,lim*100):\n",
        "    for j in range(start*100,lim*100):\n",
        "            val = i*j\n",
        "            valinvert = str(val)[::-1]\n",
        "            if valinvert == str(val) :\n",
        "                if max <  val :\n",
        "                    max = val\n",
        "                    a = f'{i} X {j} = {val}'\n",
        "            else :\n",
        "                continue\n",
        "print(max)\n",
        "print(a)"
      ],
      "metadata": {
        "id": "y-QY3hzVmsud",
        "colab": {
          "base_uri": "https://localhost:8080/"
        },
        "outputId": "14dea94f-c420-44a9-cc29-6206e52bf432"
      },
      "execution_count": null,
      "outputs": [
        {
          "output_type": "stream",
          "name": "stdout",
          "text": [
            "906609\n",
            "913 X 993 = 906609\n",
            "99000099\n",
            "9901 X 9999 = 99000099\n",
            "9966006699\n",
            "99681 X 99979 = 9966006699\n"
          ]
        }
      ]
    },
    {
      "cell_type": "markdown",
      "source": [
        "5.\tกำหนดให้ string มีเพียงสัญลักษณ์ '(', ')', '{', '}', '[' และ ']' ให้ตรวจสอบว่า String ถูกต้อง โดย เมื่อมีวงเล็บเปิด จะต้องมีวงเล็บปิดที่เป็นชนิดเดียวกัน จำนวนเท่ากันที่เป็นคู่ของมัน\n",
        "\n",
        "```\n",
        "Input: s = \"()\"\n",
        "Output: true\n",
        "Input: s = \"()[]{}\"\n",
        "Output: true\n",
        "Input: s = \"[()]{}\"\n",
        "Output: true\n",
        "Input: s = \"(]\"\n",
        "Output: false\n",
        "```\n",
        "\n",
        "\n"
      ],
      "metadata": {
        "id": "rUZvLJ-JnGJY"
      }
    },
    {
      "cell_type": "code",
      "source": [
        "s = \"\"\n",
        "k = []\n",
        "mapping = {')': '(', '}': '{', ']': '['}\n",
        "\n",
        "sum = True\n",
        "\n",
        "for char in s:\n",
        "    if char in '{[(':\n",
        "        k.append(char)\n",
        "    elif char in ')}]':\n",
        "        if k and k[-1] == mapping[char]:\n",
        "            k.pop()\n",
        "        else:\n",
        "            sum = False\n",
        "            break\n",
        "\n",
        "if k:\n",
        "    sum = False\n",
        "\n",
        "print(sum)"
      ],
      "metadata": {
        "id": "Ku8ts4x7nk1y",
        "colab": {
          "base_uri": "https://localhost:8080/"
        },
        "outputId": "facd026e-0510-4936-9793-06fec74657e7"
      },
      "execution_count": null,
      "outputs": [
        {
          "output_type": "stream",
          "name": "stdout",
          "text": [
            "True\n"
          ]
        }
      ]
    },
    {
      "cell_type": "markdown",
      "source": [
        "6.\tกำหนดให้รับข้อมูล Integer (เป็นบวกหรือลบก็ได้) จากนั้นให้แสดงผลลัพธ์ที่ reverse ตัวเลขตามตัวอย่าง\n",
        "\n",
        "```\n",
        "Input: x = 123\n",
        "Output: 321\n",
        "Input: x = -123\n",
        "Output: -321\n",
        "Input: x = 120\n",
        "Output: 21\n",
        "```\n",
        "\n"
      ],
      "metadata": {
        "id": "PLL9Wdqqnx7o"
      }
    },
    {
      "cell_type": "code",
      "source": [
        "In = \"123\"\n",
        "kj = In.lstrip(\"-\").isnumeric()\n",
        "if kj == True  :\n",
        "  if In == '-0' or In == '0':\n",
        "    print(0)\n",
        "  elif int(In) < 0 :\n",
        "    txt = int(In) *-1\n",
        "    print(\"-\",end=\"\")\n",
        "    print(int(str(txt)[::-1]))\n",
        "  else :\n",
        "      txt = int(In)\n",
        "      x = str(txt)[::-1]\n",
        "      if str(x)[0] == '0':\n",
        "        print(int(x))\n",
        "      else :\n",
        "        print(x)\n",
        "else:\n",
        "  print(\"number only\")"
      ],
      "metadata": {
        "colab": {
          "base_uri": "https://localhost:8080/"
        },
        "id": "l1rzTVJevDkB",
        "outputId": "7cace24e-ce32-4ac1-de9a-98ed49b4502f"
      },
      "execution_count": null,
      "outputs": [
        {
          "output_type": "stream",
          "name": "stdout",
          "text": [
            "321\n"
          ]
        }
      ]
    },
    {
      "cell_type": "markdown",
      "source": [
        "7.\tเขียนโปรแกรมเพื่อแสดงปิรามิดบนจอภาพ โดยแสดงเป็นรูปสี่เหลี่ยม ตัวเลขเริ่มจาก 0  และเพิ่มค่าตามลําดับจํานวนขั้น จาก 0 ถึง N (รับค่า N จากคีย์บอร์ด) ค่าของ N อยู่ระหว่าง 0-9 ดังตัวอย่าง\n",
        "\n",
        "\n",
        "```\n",
        "\t\t\t\t\t\t\t\t\t         0000000\n",
        "\t\t\t\t\t\t\t    00000\t\t0111110\n",
        "\t\t\t\t\t000\t\t 01110\t\t0122210\n",
        "\t\t\t0\t\t010\t\t01210\t\t0123210\n",
        "\t\t\t\t\t000\t\t 01110\t\t0122210\n",
        "\t\t\t\t\t\t\t    00000\t\t0111110\n",
        "\t\t\t\t\t\t\t\t\t         0000000\n",
        "\n",
        "\t\t\tn=0\t\tn=1\t\tn=2\t\tn=3\n",
        "\n",
        "```\n",
        "\n"
      ],
      "metadata": {
        "id": "KboD6c8rn52a"
      }
    },
    {
      "cell_type": "code",
      "source": [
        "n = 3\n",
        "x = n * 2 + 1\n",
        "for i in range(x):\n",
        "    for j in range(x):\n",
        "        top = i\n",
        "        bottom = x - i - 1\n",
        "        left = j\n",
        "        right = x - j -1\n",
        "        y = top\n",
        "        if y > bottom:\n",
        "          y = bottom\n",
        "        if y > left:\n",
        "          y = left\n",
        "        if y > right:\n",
        "          y = right\n",
        "        print(y, end='')\n",
        "    print()"
      ],
      "metadata": {
        "id": "sGhw6Iyfobiz",
        "colab": {
          "base_uri": "https://localhost:8080/"
        },
        "outputId": "3a236b4e-aed1-4439-f4c7-bcc0f2f920da"
      },
      "execution_count": 3,
      "outputs": [
        {
          "output_type": "stream",
          "name": "stdout",
          "text": [
            "0000000\n",
            "0111110\n",
            "0122210\n",
            "0123210\n",
            "0122210\n",
            "0111110\n",
            "0000000\n"
          ]
        }
      ]
    },
    {
      "cell_type": "markdown",
      "source": [
        "8.\tเขียนโปรแกรมเพื่อแสดงปิรามิดบนจอภาพ โดยแสดงเป็นรูปสี่เหลี่ยม ตัวเลขเริ่มจาก 0  และเพิ่มค่าตามลําดับจํานวนขั้น จาก 0 ถึง N (รับค่า N จากคีย์บอร์ด) กําหนดให้จุดศูนย์กลางของรูปสี่เหลี่ยมอยู่ที่แถว 13 คอลัมน์ 40 ของจอภาพค่าของ N อยู่ระหว่าง 0-9 ดังตัวอย่าง\n",
        "\n",
        "\n",
        "\n",
        "```\n",
        "\t\t\t\t\t\t\t\t\t            0\n",
        "\t\t\t\t\t\t\t      0\t\t    010\n",
        "\t\t\t\t\t  0\t\t  010\t\t  01210\n",
        "\t\t\t0\t\t010\t\t01210\t\t0123210\n",
        "\t\t\t\t\t  0\t\t  010\t\t  01210\n",
        "\t\t\t\t\t\t\t      0\t\t    010\n",
        "\t\t\t\t\t\t\t\t\t            0\n",
        "\n",
        "\t\t\tn=0\t\tn=1\t\tn=2\t\tn=3\n",
        "\n",
        "```\n",
        "\n"
      ],
      "metadata": {
        "id": "ecRYU6Lkob6Q"
      }
    },
    {
      "cell_type": "code",
      "source": [
        "\n",
        "n = 5\n",
        "for i in range (n-1):\n",
        "    for j in range(n-i-1):\n",
        "        print(' ',end='')\n",
        "    for j in range(i+1):\n",
        "        print(j,end='')\n",
        "    for j in range(i-1,-1,-1):\n",
        "         print(j,end='')\n",
        "    print('')\n",
        "for i in range (n):\n",
        "    for j in range(i):\n",
        "        print(' ',end='')\n",
        "    for j in range(n-i-1):\n",
        "        print(j,end='')\n",
        "    for j in range(n-i-1,-1,-1):\n",
        "         print(j,end='')\n",
        "    print('')\n"
      ],
      "metadata": {
        "id": "UBYsa1wH4DqJ",
        "outputId": "b888923f-2512-4847-cdfa-b2110446b007",
        "colab": {
          "base_uri": "https://localhost:8080/"
        }
      },
      "execution_count": null,
      "outputs": [
        {
          "output_type": "stream",
          "name": "stdout",
          "text": [
            "    0\n",
            "   010\n",
            "  01210\n",
            " 0123210\n",
            "012343210\n",
            " 0123210\n",
            "  01210\n",
            "   010\n",
            "    0\n"
          ]
        }
      ]
    },
    {
      "cell_type": "markdown",
      "source": [
        "9.\tให้เขียนโปรแกรมสร้างรูปสามเหลี่ยมที่วางซ้อนกัน 3 รูป โดยแต่ละรูปสร้างมาจากเครื่องหมาย \"*\" โดยกําหนดให้รับตัวเลขระดับของสามเหลี่ยมจากคีย์บอร์ด จากตัวอย่างข้างล่างนี้เป็นรูปสามเหลี่ยมระดับที่ 3 และ 4\n",
        "\n",
        "\n",
        "\n",
        "```\n",
        "              *\n",
        "\t\t     ***\n",
        "\t\t    *****\n",
        "\t\t   *     *\n",
        "\t      ***   ***\n",
        "\t     ***** *****\n",
        "\n",
        "  \t\t    *\n",
        "\t  \t   ***\n",
        "\t\t    *****\n",
        "\t\t   *******\n",
        "\t      *       *\n",
        "\t     ***     ***\n",
        "\t    *****   *****\n",
        "\t   ******* *******\n",
        "\n",
        "```\n",
        "\n"
      ],
      "metadata": {
        "id": "Po50A-Kuo5t4"
      }
    },
    {
      "cell_type": "code",
      "source": [
        "num = 3\n",
        "for i in range(num):\n",
        "    for j in range((num*2)-i-1):\n",
        "        print(' ',end=\"\")\n",
        "    for j in range(i+1):\n",
        "        print('*',end=\"\")\n",
        "    for j in range(i):\n",
        "        print('*',end=\"\")\n",
        "    print(end='\\n')\n",
        "for i in range(num):\n",
        "    for j in range((num)-i-1):\n",
        "        print(' ',end=\"\")\n",
        "    for j in range(i+1):\n",
        "        print('*',end=\"\")\n",
        "    for j in range(i):\n",
        "        print('*',end=\"\")\n",
        "    for j in range(2*(num-i)-1):\n",
        "        print(' ',end=\"\")\n",
        "    for j in range(i+1):\n",
        "        print('*',end=\"\")\n",
        "    for j in range(i):\n",
        "        print('*',end=\"\")\n",
        "    print(end='\\n')"
      ],
      "metadata": {
        "id": "BJmfpZXH-2u8",
        "outputId": "40512fca-87f7-4b40-dca8-f2b857c88b0d",
        "colab": {
          "base_uri": "https://localhost:8080/"
        }
      },
      "execution_count": 4,
      "outputs": [
        {
          "output_type": "stream",
          "name": "stdout",
          "text": [
            "     *\n",
            "    ***\n",
            "   *****\n",
            "  *     *\n",
            " ***   ***\n",
            "***** *****\n"
          ]
        }
      ]
    }
  ]
}