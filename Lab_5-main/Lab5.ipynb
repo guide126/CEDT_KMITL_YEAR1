{
  "nbformat": 4,
  "nbformat_minor": 0,
  "metadata": {
    "colab": {
      "provenance": [],
      "include_colab_link": true
    },
    "kernelspec": {
      "name": "python3",
      "display_name": "Python 3"
    },
    "language_info": {
      "name": "python"
    }
  },
  "cells": [
    {
      "cell_type": "markdown",
      "metadata": {
        "id": "view-in-github",
        "colab_type": "text"
      },
      "source": [
        "<a href=\"https://colab.research.google.com/github/67015127/Lab_5/blob/main/Lab5.ipynb\" target=\"_parent\"><img src=\"https://colab.research.google.com/assets/colab-badge.svg\" alt=\"Open In Colab\"/></a>"
      ]
    },
    {
      "cell_type": "markdown",
      "source": [
        "รหัสนักศึกษา : 67015127 ชื่อ :วศิน เสริมสุข"
      ],
      "metadata": {
        "id": "ayuUhdui4PbN"
      }
    },
    {
      "cell_type": "markdown",
      "source": [
        "Exercise 5.1 ให้เขียน function ชื่อ day_of_year(day, month ,year) โดยมีการคืนค่า คือ day_of_years เป็นวันที่ลำดับที่เท่าใดของปีคริสตศักราช year\n",
        "ปีที่เป็น Leap Year เดือนกุมภาพันธ์จะมี 29 วัน\n",
        "ให้สร้างฟังก์ชัน is_leap เพื่อตรวจสอบ leap year แยกออกมา และให้ฟังก์ชัน day_of_year เรียกใช้ is_leap อีกที\n"
      ],
      "metadata": {
        "id": "ZXM4rXQB6Q9o"
      }
    },
    {
      "cell_type": "code",
      "source": [
        "\n",
        "days_in_month = [31, 28, 31, 30, 31, 30, 31, 31, 30, 31, 30, 31]\n",
        "\n",
        "def is_leap(year):\n",
        "\n",
        "    if (year % 4) == 0 and(year % 100) !=0 or (year % 400)==0 :\n",
        "        return True\n",
        "    else:\n",
        "      return False\n",
        "\n",
        "\n",
        "\n",
        "def day_of_year(day, month, year):\n",
        "    sum1 = 0\n",
        "    for i in range(month):\n",
        "      sum1 = sum(days_in_month[:month-1])\n",
        "      sum1 += day\n",
        "    if is_leap(year) and month > 2:\n",
        "        sum1 += 1\n",
        "    return sum1\n",
        "\n",
        "# Testcases\n",
        "print(\"Normal year (2023):\")\n",
        "print(f\"1 Jan 2023: {day_of_year(1, 1, 2023)}\")  # ควรได้ 1\n",
        "print(f\"1 Feb 2023: {day_of_year(1, 2, 2023)}\")  # ควรได้ 32\n",
        "print(f\"1 Mar 2023: {day_of_year(1, 3, 2023)}\")  # ควรได้ 60\n",
        "print(f\"31 Dec 2023: {day_of_year(31, 12, 2023)}\")  # ควรได้ 365\n",
        "\n",
        "print(\"\\nLeap year (2024):\")\n",
        "print(f\"1 Jan 2024: {day_of_year(1, 1, 2024)}\")  # ควรได้ 1\n",
        "print(f\"29 Feb 2024: {day_of_year(29, 2, 2024)}\")  # ควรได้ 60\n",
        "print(f\"1 Mar 2024: {day_of_year(1, 3, 2024)}\")  # ควรได้ 61\n",
        "print(f\"31 Dec 2024: {day_of_year(31, 12, 2024)}\")  # ควรได้ 366\n",
        "\n",
        "print(\"\\nCentury year, not a leap year (1900):\")\n",
        "print(f\"1 Mar 1900: {day_of_year(1, 3, 1900)}\")  # ควรได้ 60\n",
        "\n",
        "print(\"\\nCentury year, leap year (2000):\")\n",
        "print(f\"1 Mar 2000: {day_of_year(1, 3, 2000)}\")  # ควรได้ 61\n",
        "\n",
        "print(\"\\nMid-year dates:\")\n",
        "print(f\"15 Jun 2023: {day_of_year(15, 6, 2023)}\")  # ควรได้ 166\n",
        "print(f\"15 Jun 2024: {day_of_year(15, 6, 2024)}\")  # ควรได้ 167 (Leap year)\n",
        "\n",
        "print(\"\\nLast day of each quarter:\")\n",
        "print(f\"31 Mar 2023: {day_of_year(31, 3, 2023)}\")  # ควรได้ 90\n",
        "print(f\"30 Jun 2023: {day_of_year(30, 6, 2023)}\")  # ควรได้ 181\n",
        "print(f\"30 Sep 2023: {day_of_year(30, 9, 2023)}\")  # ควรได้ 273\n",
        "print(f\"31 Dec 2023: {day_of_year(31, 12, 2023)}\")  # ควรได้ 365"
      ],
      "metadata": {
        "id": "oerlrWw46aJZ",
        "colab": {
          "base_uri": "https://localhost:8080/"
        },
        "outputId": "28c2f747-f59b-4306-a3bf-95b08a3ac4a3"
      },
      "execution_count": null,
      "outputs": [
        {
          "output_type": "stream",
          "name": "stdout",
          "text": [
            "Normal year (2023):\n",
            "1 Jan 2023: 1\n",
            "1 Feb 2023: 32\n",
            "1 Mar 2023: 60\n",
            "31 Dec 2023: 365\n",
            "\n",
            "Leap year (2024):\n",
            "1 Jan 2024: 1\n",
            "29 Feb 2024: 60\n",
            "1 Mar 2024: 61\n",
            "31 Dec 2024: 366\n",
            "\n",
            "Century year, not a leap year (1900):\n",
            "1 Mar 1900: 60\n",
            "\n",
            "Century year, leap year (2000):\n",
            "1 Mar 2000: 61\n",
            "\n",
            "Mid-year dates:\n",
            "15 Jun 2023: 166\n",
            "15 Jun 2024: 167\n",
            "\n",
            "Last day of each quarter:\n",
            "31 Mar 2023: 90\n",
            "30 Jun 2023: 181\n",
            "30 Sep 2023: 273\n",
            "31 Dec 2023: 365\n"
          ]
        }
      ]
    },
    {
      "cell_type": "markdown",
      "source": [
        "Exercise 5.2 ให้เขียนฟังก์ชัน เพิ่มเติมเป็น date_diff\n",
        "รับข้อมูลในรูปแบบ “dd-mm-yyyy” เช่น date_diff(“1-1-2018”, “1-1-2020”) จะได้ 731 วัน date_diff(“25-12-1999”, “9-3-2000”) จะได้ 76 วัน\n",
        "ให้เขียนฟังก์ชัน day_in_year โดยจะส่งค่าจำนวนวันของปี (365 หรือ 366) โดยรับข้อมูลเป็น ปี\n",
        "ส่งคืนข้อมูลเป็นจำนวนวันตั้งแต่วันที่แรก จนถึงวันที่สอง โดยรวมทั้ง 2 วันนั้นเข้าไปด้วย\n",
        "ให้สมมติว่าวันแรก จะต้องมาก่อนวันที่สองเสมอ ดังนั้นไม่ต้องตรวจสอบ\n"
      ],
      "metadata": {
        "id": "fkkuNcAcCo-z"
      }
    },
    {
      "cell_type": "code",
      "source": [
        "days_in_month = [31, 28, 31, 30, 31, 30, 31, 31, 30, 31, 30, 31]\n",
        "\n",
        "def is_leap(year):\n",
        "\n",
        "    if (year % 4) == 0 and(year % 100) !=0 or (year % 400)==0 :\n",
        "        return True\n",
        "    else:\n",
        "      return False\n",
        "\n",
        "def day_of_year(day, month, year):\n",
        "      sum1 = 0\n",
        "      for i in range(month):\n",
        "        sum1 = sum(days_in_month[:month-1])\n",
        "        sum1 += day\n",
        "      if is_leap(year) and month > 2:\n",
        "        sum1 += 1\n",
        "      return sum1\n",
        "\n",
        "def day_in_year(year):\n",
        "    return 366 if is_leap(year) else 365\n",
        "\n",
        "def date_diff(date1, date2):\n",
        "    d1, m1, y1 = map(int, date1.split('-'))\n",
        "    d2, m2, y2 = map(int, date2.split('-'))\n",
        "    if d1 ==d2 and m1 == m2:\n",
        "        if is_leap(y1)==True:\n",
        "            daysum =  abs(y1-y2)*366\n",
        "        else:\n",
        "            daysum =  1+abs(y1-y2)*365\n",
        "    elif y1!=y2 :\n",
        "         daysum =  abs(day_of_year(d1, m1, y1)-365)+day_of_year(d2, m2, y2)+1\n",
        "    elif y1 == y2 :\n",
        "        daysum = day_of_year(d1, m1, y1)+day_of_year(d2, m2, y2)-1\n",
        "    return daysum\n",
        "# ทดสอบฟังก์ชัน\n",
        "print(date_diff(\"1-1-2018\", \"1-1-2020\"))  # ควรได้ 731\n",
        "print(date_diff(\"25-12-1999\", \"9-3-2000\"))  # ควรได้ 76\n",
        "print(date_diff(\"1-1-2000\", \"1-1-2001\"))  # ควรได้ 367 (ปี 2000 เป็น leap year)\n",
        "print(date_diff(\"1-1-2001\", \"1-1-2002\"))  # ควรได้ 366 (ปี 2001 ไม่ใช่ leap year)\n",
        "print(date_diff(\"1-3-2000\", \"1-3-2001\"))  # ควรได้ 367 (ข้ามปี leap year)\n",
        "print(date_diff(\"1-1-2023\", \"31-12-2023\"))  # ควรได้ 365 (ทั้งปี 2023)\n"
      ],
      "metadata": {
        "id": "dwNIkw0wDRjF",
        "colab": {
          "base_uri": "https://localhost:8080/"
        },
        "outputId": "5e4544e2-2211-4980-a299-76902459003f"
      },
      "execution_count": null,
      "outputs": [
        {
          "output_type": "stream",
          "name": "stdout",
          "text": [
            "731\n",
            "76\n",
            "366\n",
            "366\n",
            "366\n",
            "365\n"
          ]
        }
      ]
    },
    {
      "cell_type": "markdown",
      "source": [
        "Exercise 5.3 จากโปรแกรม 5.2 ให้เขียนฟังก์ชัน date_diff  เพิ่มเติม โดยให้มีการตรวจสอบ\n",
        "วันที่ต้องเป็นวันที่ถูกต้องของเดือนนั้นๆ\n",
        "เดือนต้องอยู่ระหว่าง 1-12\n",
        "เดือนกุมภาพันธ์ของปีที่มี Leap Year เท่านั้นที่จะมี 29 วันได้\n",
        "หากข้อมูล Input ผิดพลาด ให้ Return -1\n"
      ],
      "metadata": {
        "id": "JU8jQcg4WDoF"
      }
    },
    {
      "cell_type": "code",
      "source": [
        "days_in_month = [31, 28, 31, 30, 31, 30, 31, 31, 30, 31, 30, 31]\n",
        "def is_leap(year):\n",
        "    if (year % 4) == 0 and(year % 100) !=0 or (year % 400)==0 :\n",
        "        return True\n",
        "    else:\n",
        "      return False\n",
        "def wrong(day, month, year):\n",
        "   if month < 1 or month > 12:\n",
        "          return False\n",
        "   max_days = days_in_month[month - 1]\n",
        "   if month == 2 and is_leap(year):\n",
        "\n",
        "        max_days = 29  # Adjust February for leap years\n",
        "   if day < 1 or day > max_days:\n",
        "        return False\n",
        "   return True\n",
        "def day_of_year(day, month, year):\n",
        "      sum1 = 0\n",
        "      for i in range(month):\n",
        "        sum1 = sum(days_in_month[:month-1])\n",
        "        sum1 += day\n",
        "      if is_leap(year) and month > 2:\n",
        "        sum1 += 1\n",
        "      return sum1\n",
        "\n",
        "def day_in_year(year):\n",
        "    return 366 if is_leap(year) else 365\n",
        "\n",
        "def date_diff(date1, date2):\n",
        "    if date1.isalpha()==True :\n",
        "        return -1\n",
        "    else:\n",
        "      d1, m1, y1 = map(int, date1.split('-'))\n",
        "      d2, m2, y2 = map(int, date2.split('-'))\n",
        "      if d1 ==29 and days_in_month[1]:\n",
        "        return -1\n",
        "\n",
        "      if d1 ==d2 and m1 == m2:\n",
        "        if is_leap(y1)==True:\n",
        "            daysum =  1+abs(y1-y2)*366\n",
        "        else:\n",
        "            daysum =  1+abs(y1-y2)*365\n",
        "      elif y1!=y2 :\n",
        "         daysum =  abs(day_of_year(d1, m1, y1)-365)+day_of_year(d2, m2, y2)+1\n",
        "      elif y1 == y2 :\n",
        "        daysum = day_of_year(d1, m1, y1)+day_of_year(d2, m2, y2)-1\n",
        "      if not wrong(d1, m1, y1) or not wrong(d2, m2, y2):\n",
        "        return -1\n",
        "      return daysum\n",
        "\n",
        "# ทดสอบฟังก์ชัน\n",
        "print(date_diff(\"1-1-2018\", \"1-1-2020\"))  # ควรได้ 731\n",
        "print(date_diff(\"25-12-1999\", \"9-3-2000\"))  # ควรได้ 76\n",
        "print(date_diff(\"1-1-2000\", \"1-1-2001\"))  # ควรได้ 367 (ปี 2000 เป็น leap year)\n",
        "print(date_diff(\"1-1-2001\", \"1-1-2002\"))  # ควรได้ 366 (ปี 2001 ไม่ใช่ leap year)\n",
        "print(date_diff(\"1-3-2000\", \"1-3-2001\"))  # ควรได้ 367 (ข้ามปี leap year)\n",
        "print(date_diff(\"1-1-2023\", \"31-12-2023\"))  # ควรได้ 365 (ทั้งปี 2023)\n",
        "\n",
        "# ทดสอบกรณีข้อมูลไม่ถูกต้อง\n",
        "print(date_diff(\"31-4-2023\", \"1-5-2023\"))  # ควรได้ -1 (เดือนเมษายนมี 30 วัน)\n",
        "print(date_diff(\"29-2-2023\", \"1-3-2023\"))  # ควรได้ -1 (ปี 2023 ไม่ใช่ leap year)\n",
        "print(date_diff(\"1-13-2023\", \"1-1-2024\"))  # ควรได้ -1 (เดือนไม่ถูกต้อง)\n",
        "print(date_diff(\"abc\", \"1-1-2024\"))  # ควรได้ -1 (รูปแบบวันที่ไม่ถูกต้อง)"
      ],
      "metadata": {
        "id": "OgqrXbFVWEML",
        "colab": {
          "base_uri": "https://localhost:8080/"
        },
        "outputId": "6dd5cfc4-8171-4d31-a078-efd2104e4ec2"
      },
      "execution_count": null,
      "outputs": [
        {
          "output_type": "stream",
          "name": "stdout",
          "text": [
            "731\n",
            "76\n",
            "367\n",
            "366\n",
            "367\n",
            "365\n",
            "-1\n",
            "-1\n",
            "-1\n",
            "-1\n"
          ]
        }
      ]
    },
    {
      "cell_type": "markdown",
      "source": [
        "1.\tปลาหมอคางดำเพศเมีย 1 ตัว เมื่ออายุครบ 2 เดือน จะสามารถสืบพันธ์ได้ โดยระยะเวลาตั้งท้องจนถึง\n",
        "วางไข่ของตัวเมียจะใช้เวลา 21 วัน และฟักในปากเพศผู้อีก 7 วัน (สามารถรวมเป็น 1 เดือนได้) โดยออกไข่ครั้งละ 300 ฟอง กำหนดให้ไข่ฟักเป็นเพศผู้และเพศเมียอย่างละครึ่ง และเมื่อวางไข่แล้วจะสามารถสืบพันธ์ต่อได้ทันที กำหนดให้ปลามีอายุ 5 ปี และปลาทั้งหมดจะตาย p% ทุก 1 เดือน จงหาว่าปลาหมอคางดำหลุดจากฟาร์ม n ตัวเป็นเพศผู้และเพศเมียอย่างละครึ่ง จงเขียนโปรแกรมรับค่า n และ p ให้แสดงผลจำนวนปลาทุก 3 เดือน เป็นเวลา 10 ปี ให้เขียนเป็นฟังก์ชัน ชื่อ simulate_fish_population()\n"
      ],
      "metadata": {
        "id": "tdBCjJzeWb2c"
      }
    },
    {
      "cell_type": "code",
      "execution_count": null,
      "metadata": {
        "id": "JmvNmVQh4C9X",
        "colab": {
          "base_uri": "https://localhost:8080/"
        },
        "outputId": "7908ff50-bda2-42ba-cf2c-08ccf6704de9"
      },
      "outputs": [
        {
          "output_type": "stream",
          "name": "stdout",
          "text": [
            "Month: 3, Eggs: 300, Baby Fish: 270, Adult Fish: 243, Total: 515\n",
            "Month: 6, Eggs: 36750, Baby Fish: 33075, Adult Fish: 29767, Total: 63087\n",
            "Month: 9, Eggs: 4501875, Baby Fish: 4051687, Adult Fish: 3646518, Total: 7728218\n",
            "Month: 12, Eggs: 551479687, Baby Fish: 496331718, Adult Fish: 446698546, Total: 946706796\n",
            "Month: 15, Eggs: 67556261718, Baby Fish: 60800635546, Adult Fish: 54720571992, Total: 115971582617\n",
            "Month: 18, Eggs: 8275642060546, Baby Fish: 7448077854492, Adult Fish: 6703270069042, Total: 14206518870605\n",
            "Month: 21, Eggs: 1013766152416992, Baby Fish: 912389537175293, Adult Fish: 821150583457763, Total: 1740298561649170\n",
            "Month: 24, Eggs: 124186353671081552, Baby Fish: 111767718303973392, Adult Fish: 100590946473576048, Total: 213186573802023296\n",
            "Month: 27, Eggs: 15212828324707487744, Baby Fish: 13691545492236738560, Adult Fish: 12322390943013064704, Total: 26115355290747854848\n",
            "Month: 30, Eggs: 1863571469776667017216, Baby Fish: 1677214322799000420352, Adult Fish: 1509492890519100456960, Total: 3199131023116611878912\n",
            "Month: 33, Eggs: 228287505047641703579648, Baby Fish: 205458754542877529866240, Adult Fish: 184912879088589793656832, Total: 391893550331784937340928\n",
            "Month: 36, Eggs: 27965219368336110248787968, Baby Fish: 25168697431502498364915712, Adult Fish: 22651827688352249387417600, Total: 48006959915643659219894272\n",
            "Month: 39, Eggs: 3425739372621173526951362560, Baby Fish: 3083165435359056449134133248, Adult Fish: 2774848891823150859196301312, Total: 5880852589666348116998094848\n",
            "Month: 42, Eggs: 419653073146093839240036089856, Baby Fish: 377687765831484448279158063104, Adult Fish: 339918989248336010488116674560, Total: 720404442234127760880499163136\n",
            "Month: 45, Eggs: 51407501460396496186513723228160, Baby Fish: 46266751314356851071461978275840, Adult Fish: 41640076182921165964315780448256, Total: 88249544173680657041048123473920\n",
            "Month: 48, Eggs: 6297418928898570715293936684892160, Baby Fish: 5667677036008714220225295319826432, Adult Fish: 5100909332407843028787066709213184, Total: 10810569161275880784765970532007936\n",
            "Month: 51, Eggs: 771433818790075049244705539810656256, Baby Fish: 694290436911067500048049208926666752, Adult Fish: 624861393219960735285849029066358784, Total: 1324294722256295424956869005342146560\n",
            "Month: 54, Eggs: 94500642801784179586737908902384369664, Baby Fish: 85050578521605763517010711160004018176, Adult Fish: 76545520669445185276363046896145530880, Total: 162226103476396167716271469882303840256\n",
            "Month: 57, Eggs: 11576328743218563047740753037603322724352, Baby Fish: 10418695868896706984751841656768825393152, Adult Fish: 9376826282007035923598911606703190441984, Total: 19872697675858534521475833636823490363392\n",
            "Month: 60, Eggs: 1418100271044274012033868474774540624330752, Baby Fish: 1276290243939846672727483591566100306853888, Adult Fish: 1148661219545862020928985723476743712407552, Total: 2434405465292670382166724051340543593021440\n",
            "Month: 63, Eggs: 173717283202923569723741491284004448090718208, Baby Fish: 156345554882631216712775467868820882958843904, Adult Fish: 140710999394368106925722298221589433694552064, Total: 298214669498352152454439668602378393898450944\n",
            "Month: 66, Eggs: 21280367192358140282021467595769289047397105664, Baby Fish: 19152330473122326760879560927484120741338677248, Adult Fish: 17237097425810095098912085017319229864567373824, Total: 36531297013548141409040466145911000229826527232\n",
            "Month: 69, Eggs: 2606844981063872440613051026584077010640192929792, Baby Fish: 2346160482957485261455456655611014666207377752064, Adult Fish: 2111544434661736865117332453420603912849048207360, Total: 4475083884159647981785769221553386306439416381440\n",
            "Month: 72, Eggs: 319338510180324419732214816594717910228422535151616, Baby Fish: 287404659162291965297480874451659810732389091508224, Adult Fish: 258664193246062760460057813350769624010356055605248, Total: 548197775809556864463496029644794024429431663099904\n",
            "Month: 75, Eggs: 39118967497089739693353757999290171330856979255001088, Baby Fish: 35207070747380764128944787257462106713202808993087488, Adult Fish: 31686363672642688779432705159648594364928176318054400, Total: 67154227536670714401396768373456910975822435914350592\n",
            "Month: 78, Eggs: 4792073518393493093826643413924223767376681114812809216, Baby Fish: 4312866166554143988613399225094879468663777462392455168, Adult Fish: 3881579549898729861977952839336162292497085661567778816, Total: 8226392873242163609454972652519150867275266070511878144\n",
            "Month: 81, Eggs: 587029006003202945848494949481148417498720150672059138048, Baby Fish: 528326105402882633841188268180984246424068235098320797696, Adult Fish: 475493494862594379168298034538910486444051361841754931200, Total: 1007733126972165080269859245078703889139176125995744755712\n",
            "Month: 84, Eggs: 71911053235392350412966319500211083548725278153407788482560, Baby Fish: 64719947911853115371669687550189975193852750338067009634304, Adult Fish: 58247953120667807179614498574764448904825216201514534567936, Total: 123447308054090199683863415264477098297335204775986578063360\n",
            "Month: 87, Eggs: 8809104021335562267716390782122475059415157530665789662691328, Baby Fish: 7928193619202005612770443892122263235987850942750669781598208, Adult Fish: 7135374257281805336942938044102013124046259738374630079987712, Total: 15122295236626047108544649924917703109405284820656216931827712\n",
            "Month: 90, Eggs: 1079115242613606407053835571282180756473219171221209529525993472, Baby Fish: 971203718352245784617222480790249158371957663052626322272550912, Adult Fish: 874083346517021224424270699347510720080822305700901435744452608, Total: 1852481166486690867849562719807690542865593313096055848175665152\n",
            "Month: 93, Eggs: 132191617220166780388246093156176955669184548280981419670640787456, Baby Fish: 118972455498150104687824103570003929228161825798936109153068777472, Adult Fish: 107075209948335087203833834024669528927658446180884003889285693440, Total: 226928942894619646291963215818197003088804716196167792874827546624\n",
            "Month: 96, Eggs: 16193473109470431567997233599351214756721836088032148961192704999424, Baby Fish: 14574125798523387812566439588678257984820344998639409214003464896512, Adult Fish: 13116713218671048731994260304441514538223656758480705867068133605376, Total: 27798795504590905828940550835129051993056114089451535305349229707264\n",
            "Month: 99, Eggs: 1983700455910127870072816469174212984179571458186885872001456210444288, Baby Fish: 1785330410319114968128369257315127308885587276095008513395876425629696, Adult Fish: 1606797369287203433003143809936393119038352869727778071587810728476672, Total: 3405352449312385787449051635335647456761728269183903243839639606263808\n",
            "Month: 102, Eggs: 243003305848990656613004255752632906065055746270136249178825165134364672, Baby Fish: 218702975264091595855689560948213962205260658524112011840907839608455168, Adult Fish: 196832677737682443626099201009659086104800322993184892026764842128900096, Total: 417155675040767311833604985201782426816284149660694982216855567101591552\n",
            "Month: 105, Eggs: 29767904966501360388118609408250321207146920667890971980170925626361905152, Baby Fish: 26791114469851225604727095544761441853590113242635158002624921956532617216, Adult Fish: 24112003022866102102689125682283183092862688437221679787009113091274178560, Total: 51101570192494003987352495689945293286935531162307200331705979738865532928\n",
            "Month: 108, Eggs: 3646568358396416788779318698710981534180759803989138429873935889670109921280, Baby Fish: 3281911522556775109901386828839883380762683823590224586886542300703098929152, Adult Fish: 2953720370301097719431601465380165708333572366818397317363112604342251683840, Total: 6259942348580515554360248943578446447925391511063129409708714684883390169088\n",
            "Month: 111, Eggs: 446704623903561061044546162304318495677538829926866614595615379387268762435584, Baby Fish: 402034161513204965224495029331424409578342337917620609278153001658416032120832, Adult Fish: 361830745361884473844247268027050850354786799617578876421387281597511501873152, Total: 766842937701113158221272073041592672069294121702267907103172788018102757490688\n",
            "Month: 114, Eggs: 54721316428186227406856034067894574853359158920180996252438093922471886916157440, Baby Fish: 49249184785367607957179545303517201677961608142863906592666015797384424921759744, Adult Fish: 44324266306830849794268882487095148958116139420338323905776799231373763787358208, Total: 93938259868386371857977207707406732892989199162465255077974851935795509343551488\n",
            "Month: 117, Eggs: 6703361262452813821605534763543826122348437946329567960806883766780606069514174464, Baby Fish: 6033025136207532270945314617497944793444749857823919454494042749223967455665192960, Adult Fish: 5429722622586779465099949829976897105772385606723256784625020076498015727342583808, Total: 11507436833877330618422390237005566465589944199696013946361353987478144428529418240\n",
            "Month: 120, Eggs: 821161754650469736956591342653908366321583164832271919859202948059054525308853026816, Baby Fish: 739045579185422806396846875829541201156648987580453805692713729318065042543744122880, Adult Fish: 665141021266880579677055522547866670375014262861669772397731201467403500496590209024, Total: 1409661012149973080794084472136643782452469204052290270789538367883397245771196661760\n"
          ]
        },
        {
          "output_type": "execute_result",
          "data": {
            "text/plain": [
              "(8.211617546504697e+83, 7.390455791854228e+83, 6.651410212668806e+83)"
            ]
          },
          "metadata": {},
          "execution_count": 17
        }
      ],
      "source": [
        "import math\n",
        "\n",
        "def simulate_fish_population(n, p, month=3):\n",
        "    deadtime = 5 * 12\n",
        "    rounds = month // 3\n",
        "    monthcount = 0\n",
        "    fish_count_month = []\n",
        "    for i in range(int(rounds)):\n",
        "        if monthcount >= deadtime:\n",
        "            n -= fish_count_month.pop(0)\n",
        "        # ไข่\n",
        "        egg_fish = (n / 2) * 300\n",
        "        monthcount += 1\n",
        "        if monthcount >= deadtime:\n",
        "            n -= fish_count_month.pop(0)\n",
        "        fish_count_month.append(n)\n",
        "        # ปลาเล็ก\n",
        "        baby_fish = egg_fish * (1 - p / 100)\n",
        "        monthcount += 1\n",
        "\n",
        "        if monthcount >= deadtime:\n",
        "            n -= fish_count_month.pop(0)\n",
        "        fish_count_month.append(n)\n",
        "        #ปลาใหญ่\n",
        "        big_fish = baby_fish * (1 - p / 100)\n",
        "        monthcount += 1\n",
        "\n",
        "        print(f'Month: {monthcount}, Eggs: {int(egg_fish)}, Baby Fish: {int(baby_fish)}, '\n",
        "              f'Adult Fish: {int(big_fish)}, Total: {int(n + baby_fish + big_fish)}')\n",
        "\n",
        "        n = big_fish + n\n",
        "        fish_count_month.append(n)\n",
        "    return egg_fish, baby_fish, big_fish\n",
        "month = 10 * 12\n",
        "n = 2\n",
        "p = 10\n",
        "simulate_fish_population(n, p, month)"
      ]
    },
    {
      "cell_type": "markdown",
      "source": [
        "2.\tให้เขียน function find_mismatch ซึ่งรับ string มา 2 ค่า โดยจะส่งค่ากลับดังนี้\n",
        "- 0 เมื่อ string ทั้ง 2 ตัว เหมือนกัน โดยไม่สนใจ case\n",
        "- 1 เมื่อ string 1 จะเหมือน string 2 โดยการลบและ/หรือเพิ่มตัวอักษรเพียง 1 ตัว\n",
        "- 2 เมื่อ string ไม่เข้าเกณฑ์ 0 หรือ 1\n",
        "\n",
        "\n",
        "| String  1| \tString2\t|ผลลัพธ์|\n",
        "|----------|----------|------|\n",
        "|Python|\tJava\t|2|\n",
        "|book\t |  boot\t|1|\n",
        "|fan\t |  fun\t  |1|\n",
        "|sin\t | sink\t  |1 เพราะเพิ่ม k ใน str2 แล้วจะเหมือนกัน\n",
        "|Dog\t | dog\t  |0\n",
        "|poke\t | spoke\t|1 เพิ่ม s ใน str2 แล้วเหมือนกัน\n",
        "|poker |\tpoke\t|1 ตัด r ใน str1 ออกแล้วเหมือนกัน\n",
        "\n",
        "\n",
        "\n",
        "\n"
      ],
      "metadata": {
        "id": "F0_ZEPOYbDKf"
      }
    },
    {
      "cell_type": "code",
      "source": [
        "def find_mismatch(str1, str2):\n",
        "    str1 = str1.lower()\n",
        "    str2 = str2.lower()\n",
        "\n",
        "    if str1 == str2:\n",
        "        return 0\n",
        "\n",
        "    len1, len2 = len(str1), len(str2)\n",
        "    if abs(len1 - len2) > 1:\n",
        "        return 2\n",
        "\n",
        "    i, j = 0, 0\n",
        "    found_difference = False\n",
        "\n",
        "    while i < len1 and j < len2:\n",
        "        if str1[i] != str2[j]:\n",
        "            if found_difference:\n",
        "                return 2\n",
        "            found_difference = True\n",
        "            if len1 > len2:\n",
        "                i += 1\n",
        "            elif len1 < len2:\n",
        "                j += 1\n",
        "            else:\n",
        "                i += 1\n",
        "                j += 1\n",
        "        else:\n",
        "            i += 1\n",
        "            j += 1\n",
        "\n",
        "    return 1\n",
        "print(find_mismatch('Python', 'Java'))\n",
        "print(find_mismatch('book', 'boot'))\n",
        "print(find_mismatch('fan', 'fun'))\n",
        "print(find_mismatch('sin', 'sink'))\n",
        "print(find_mismatch('Dog', 'dog'))\n",
        "print(find_mismatch('spoke', 'poke'))\n",
        "print(find_mismatch('poker', 'poke'))"
      ],
      "metadata": {
        "id": "jyVxAb-MXnz2",
        "outputId": "ad9e5d9f-05c4-4fee-aaf9-52ec9d3f4b91",
        "colab": {
          "base_uri": "https://localhost:8080/"
        }
      },
      "execution_count": null,
      "outputs": [
        {
          "output_type": "stream",
          "name": "stdout",
          "text": [
            "2\n",
            "1\n",
            "1\n",
            "1\n",
            "0\n",
            "1\n",
            "1\n"
          ]
        }
      ]
    },
    {
      "cell_type": "markdown",
      "source": [
        "3.\tจากข้อ 1 ให้เขียนฟังก์ชันชื่อ spelling_correction โดยรับ 2 argument ตัวแรกเป็นประโยค (string) และตัวที่ 2 เป็น list ของคำ (correct_spells) โดยฟังก์ชันนี้มีหน้าที่ตรวจสอบแต่ละ word ใน input string กับคำที่อยู่ใน correct_spells โดยค่าที่คืนกลับมาจะมีดังนี้ (พยายามเรียกใช้ฟังก์ชันในข้อ 1)\n",
        "-\tถ้าคำที่อยู่ในประโยค ตรงกับคำที่อยู่ใน correct_spells ทุกอย่าง ก็จะ copy ไปที่ output string\n",
        "-\tถ้าคำที่อยู่ในประโยค ต่างจากคำที่อยู่ใน correct_spells โดยต่างกัน 1 ตัวอักษร โดยการเปลี่ยน การเพิ่ม หรือการลบ 1 ตัวอักษร คำที่อยู่ในประโยคจะถูกเปลี่ยนโดยคำที่อยู่ใน correct_spells และนำไปใส่ output string\n",
        "-\tถ้าคำที่ไม่พบในเงื่อนไขข้างต้นให้นำคำนั้นไปใส่ output string ได้เลย\n",
        "-\tคำที่ประกอบด้วย 1 หรือ 2 ตัวอักษรจะไม่ตรวจสอบ ให้นำคำนั้นไปใส่ output string ได้เลย\n",
        "-\tถ้ามี 2 คำใน correct_spells ที่ตรงตามเงื่อนไข ให้ใช้คำแรก\n",
        "-\tไม่สนใจตัวใหญ่ ตัวเล็ก\n",
        "-\tInput string จะมีได้เพียงอักษรภาษาอังกฤษเท่านั้น\n",
        "-\tในแต่ละคำจะคั่นด้วย 1 space ถ้ามี space มากกว่านั้นให้ตัดออก และตัด space จากหัวท้ายประโยค\n",
        "\n",
        "|ประโยค\t|correct_spells\t|output string |\n",
        "|-------|---------------|-------------|\n",
        "|Thes is the Firs cas\t|[‘that’,’first’,’case’,’car’]|\tthes is the first car|\n",
        "|programming is fan and easy\t|[‘programming’,’this’,’fun’,’easy’,book’]\t|programming is fun and easy|\n",
        "|Thes is vary essy\t|[‘this’,’is’,’very’,’easy’]\t|this is very easy|\n",
        "|Wee ipve Pythen\t|[‘we’,’live’,’ln’,’Python’]\t|we live python|\n",
        "\n",
        "\n"
      ],
      "metadata": {
        "id": "jzXp83HSbMh9"
      }
    },
    {
      "cell_type": "code",
      "source": [
        "def find_mismatch(str1, str2):\n",
        "    str1 = str1.lower()\n",
        "    str2 = str2.lower()\n",
        "\n",
        "    if str1 == str2:\n",
        "        return 0\n",
        "\n",
        "    len1, len2 = len(str1), len(str2)\n",
        "    if abs(len1 - len2) > 1:\n",
        "        return 2\n",
        "\n",
        "    i, j = 0, 0\n",
        "    found_difference = False\n",
        "\n",
        "    while i < len1 and j < len2:\n",
        "        if str1[i] != str2[j]:\n",
        "            if found_difference:\n",
        "                return 2\n",
        "            found_difference = True\n",
        "            if len1 > len2:\n",
        "                i += 1\n",
        "            elif len1 < len2:\n",
        "                j += 1\n",
        "            else:\n",
        "                i += 1\n",
        "                j += 1\n",
        "        else:\n",
        "            i += 1\n",
        "            j += 1\n",
        "\n",
        "    return 1 if found_difference else 0\n",
        "\n",
        "def spelling_correction(input_string, correct_spells):\n",
        "    input_words = input_string.split()\n",
        "    corrected_words = []\n",
        "    for word in input_words:\n",
        "        best_match = word\n",
        "        min_mismatch = len(word) + 1\n",
        "        for correct in correct_spells:\n",
        "            mismatches = find_mismatch(word, correct)\n",
        "            if mismatches < min_mismatch:\n",
        "                best_match = correct\n",
        "                min_mismatch = mismatches\n",
        "            elif mismatches == min_mismatch and len(correct) == len(word):\n",
        "                best_match = correct\n",
        "        corrected_words.append(best_match)\n",
        "    return \" \".join(corrected_words)\n",
        "print(spelling_correction(\"Thes is the Firs cas\", ['that', 'first', 'case', 'car']))\n",
        "print(spelling_correction(\"programming is fan and easy\", ['programming', 'this', 'fun', 'easy', 'book']))\n",
        "print(spelling_correction(\"Thes is vary essy\", ['this', 'is', 'very', 'easy']))\n",
        "print(spelling_correction(\"Wee ipve Pythen\", ['we', 'live', 'In', 'Python']))"
      ],
      "metadata": {
        "id": "4NW0Y1hXpfCt",
        "colab": {
          "base_uri": "https://localhost:8080/"
        },
        "outputId": "6839f417-b6bd-4b85-e2f1-187ae4433db9"
      },
      "execution_count": null,
      "outputs": [
        {
          "output_type": "stream",
          "name": "stdout",
          "text": [
            "case that car first case\n",
            "programming programming fun fun easy\n",
            "this is very easy\n",
            "we live Python\n"
          ]
        }
      ]
    },
    {
      "cell_type": "markdown",
      "source": [
        "4. ให้เขียนฟังก์ชัน find_word_horizontal ซึ่งจะรับ list ขนาด 2 มิติ ของตัวอักษร (คล้ายกับเกม cross word) และ word ซึ่งเป็น string เป็น argument โดยฟังก์ชันนี้ จะค้นหาตามแถวของ list เพื่อหาตำแหน่งที่มีอักษรตรงกับคำใน word ถ้าพบ จะส่งคืน row index และ column index ของตัวอักษรแรก ถ้าไม่พบจะส่งคืน None\n",
        "\n",
        "```\n",
        "crosswords=[['s','d','o','g'],\n",
        "            ['c','u','c','m'],\n",
        "            ['a','c','a','t'],\n",
        "            ['t',' e','t','k']]\n",
        "\tword='cat'\n",
        "\tfind_word_horizontal(crosswords,word)\n",
        "```\n",
        "\n",
        "Output\n",
        "   [2,1]\n"
      ],
      "metadata": {
        "id": "sshYZJYZpfua"
      }
    },
    {
      "cell_type": "code",
      "source": [
        "def find_word_horizontal(crosswords, word):\n",
        "      row_index = 0\n",
        "      for row in crosswords:\n",
        "        row_string = ''.join(row)\n",
        "        col_index = row_string.find(word)\n",
        "        if col_index != -1:\n",
        "            return (row_index, col_index)\n",
        "        row_index += 1\n",
        "      return None\n",
        "crosswords = [['s','d','o','g'],\n",
        "              ['c','u','c','m'],\n",
        "              ['a','c','a','t'],\n",
        "              ['t','e','t','k']]\n",
        "word = 'cat'\n",
        "result = find_word_horizontal(crosswords, word)\n",
        "print(result)"
      ],
      "metadata": {
        "id": "2z0nonPMqZ_Q",
        "colab": {
          "base_uri": "https://localhost:8080/"
        },
        "outputId": "ffb89cc9-833f-43ca-da41-9697ae74bbc8"
      },
      "execution_count": 29,
      "outputs": [
        {
          "output_type": "stream",
          "name": "stdout",
          "text": [
            "(2, 1)\n"
          ]
        }
      ]
    },
    {
      "cell_type": "markdown",
      "source": [
        "5. ให้เขียนฟังก์ชัน find_word_vertical ซึ่งจะรับ list ขนาด 2 มิติ ของตัวอักษร (คล้ายกับเกม cross word) และ word ซึ่งเป็น string เป็น argument โดยฟังก์ชันนี้ จะค้นหาตามคอลัมน์ของ list เพื่อหาตำแหน่งที่มีอักษรตรงกับคำใน word ถ้าพบ จะส่งคืน row index และ column index ของตัวอักษรแรก ถ้าไม่พบจะส่งคืน None\n",
        "\n",
        "ตัวอย่าง\n",
        "```\n",
        "\tcrosswords=[['s','d','o','g'],\n",
        "              ['c','u','c','m'],\n",
        "              ['a','c','a','t'],\n",
        "              ['t',' e','t','k']]\n",
        "\tword='cat'\n",
        "\tfind_word_vertical(crosswords,word)\n",
        "```\n",
        "\n",
        "Output\n",
        "   [1,0]\n"
      ],
      "metadata": {
        "id": "sDhGHMPsqr6a"
      }
    },
    {
      "cell_type": "code",
      "source": [
        "def find_word_vertical(crosswords, word):\n",
        "    num_rows = len(crosswords)\n",
        "    num_cols = len(crosswords[0])\n",
        "    for col in range(num_cols):\n",
        "        col_string = ''.join([crosswords[row][col] for row in range(num_rows)])\n",
        "        row_index = col_string.find(word)\n",
        "        if row_index != -1:\n",
        "            return [row_index, col]\n",
        "    return None\n",
        "crosswords = [['s','d','o','g'],\n",
        "              ['c','u','c','m'],\n",
        "              ['a','c','a','t'],\n",
        "              ['t','e','t','k']]\n",
        "word = 'cat'\n",
        "result = find_word_vertical(crosswords, word)\n",
        "print(result)"
      ],
      "metadata": {
        "id": "R5Jp1CkQrEz9",
        "colab": {
          "base_uri": "https://localhost:8080/"
        },
        "outputId": "190c020d-31a5-4583-9a64-ac9be54c7279"
      },
      "execution_count": null,
      "outputs": [
        {
          "output_type": "stream",
          "name": "stdout",
          "text": [
            "[1, 0]\n"
          ]
        }
      ]
    },
    {
      "cell_type": "markdown",
      "source": [
        "6.\tให้เขียนฟังก์ชัน capitalize_word_in_crossword จะรับ list ขนาด 2 มิติ ของตัวอักษร (คล้ายกับเกม cross word) และ word ซึ่งเป็น string เป็น argument โดยฟังก์ชันนี้ จะค้นหาตาม row และ column ของ list เพื่อหาตำแหน่งที่มีอักษรตรงกับคำใน word ถ้าพบจะเปลี่ยนเป็นตัวใหญ่และ และส่งคืน list ที่แก้ไขแล้ว แต่ถ้าไม่เจอจะส่ง list เดิมกลับมา ให้ใช้ฟังก์ชันตามข้อ 3 และ 4 ช่วย\n",
        "\n",
        "```\n",
        "crosswords=[['s','d','o','g'],\n",
        "            ['c','u','c','m'],\n",
        "            ['a','x','a','t'],\n",
        "            ['t','e','t','k']]\n",
        "word='cat'\n",
        "capitalize_word_in_crossword(crosswords,word)\n",
        "```\n",
        "จะส่งค่ากลับ\n",
        "```\n",
        " [['s','d','o','g'],\n",
        "  ['C','u','c','m'],\n",
        "  ['A','x','a','t'],\n",
        "  ['T','e','t','k']]\n",
        "```\n",
        "```\n",
        "crosswords=[['s','d','o','g'],\n",
        "            ['c','u','c','m'],\n",
        "            ['a','c','a','t'],\n",
        "            ['t','e','t','k']]\n",
        "word='cat'\n",
        "capitalize_word_in_crossword(crosswords,word)\n",
        "จะส่งค่ากลับ                   \n",
        "[['s','d','o','g'],\n",
        " ['c','u','c','m'],\n",
        " ['a','C','A','T'],\n",
        " ['t','e','t','k']]\n",
        "```\n",
        "\n",
        "\n"
      ],
      "metadata": {
        "id": "dinoUBQTrDFp"
      }
    },
    {
      "cell_type": "code",
      "source": [
        "def find_word_horizontal(crosswords, word):\n",
        "      row_index = 0\n",
        "      for row in crosswords:\n",
        "        row_string = ''.join(row)\n",
        "        col_index = row_string.find(word)\n",
        "        if col_index != -1:\n",
        "            return (row_index, col_index)\n",
        "        row_index += 1\n",
        "      return None\n",
        "      pass\n",
        "def capitalize_word_in_crossword_Horizontal(crosswords, word):\n",
        "    position= find_word_horizontal(crosswords,word)\n",
        "    row,col=position\n",
        "    for i in range(len(word)):\n",
        "        crosswords[row][col+i] = crosswords[row][col+i].upper()\n",
        "    return(crosswords)\n",
        "    pass\n",
        "crosswords = [\n",
        "    ['s', 'd', 'o', 'g'],\n",
        "    ['a', 'u', 'a', 'm'],\n",
        "    ['a', 'c', 'a', 't'],\n",
        "    ['t', 'e', 't', 'k']\n",
        "]\n",
        "word = 'cat'\n",
        "if(find_word_horizontal(crosswords,word) != None):\n",
        "    result = capitalize_word_in_crossword_Horizontal(crosswords, word)\n",
        "    for i in range(len(result[0])):\n",
        "        print(result[i])\n",
        "else:\n",
        "    for i in range(len(crosswords[0])):\n",
        "        print(crosswords[i])\n",
        "def find_word_vertical(crosswords, word):\n",
        "    num_rows = len(crosswords)\n",
        "    num_cols = len(crosswords[0])\n",
        "\n",
        "    for col in range(num_cols):\n",
        "        col_string = ''.join([crosswords[row][col] for row in range(num_rows)])\n",
        "        row_index = col_string.find(word)\n",
        "        if row_index != -1:\n",
        "            return [row_index, col]\n",
        "    return None\n",
        "    pass\n",
        "def capitalize_word_in_crossword_Vertical(crosswords, word):\n",
        "    position= find_word_vertical(crosswords,word)\n",
        "    row,col=position\n",
        "    for i in range(len(word)):\n",
        "        crosswords[row+i][col] = crosswords[row+i][col].upper()\n",
        "    return(crosswords)\n",
        "    pass\n",
        "crosswords = [\n",
        "    ['s', 'd', 'o', 'g'],\n",
        "    ['c', 'u', 'c', 'm'],\n",
        "    ['a', 'c', 'a', 't'],\n",
        "    ['t', 'e', 't', 'k']\n",
        "]\n",
        "word = 'cat'\n",
        "if(find_word_vertical(crosswords,word) != None):\n",
        "    result = capitalize_word_in_crossword_Vertical(crosswords, word)\n",
        "    for i in range(len(result[0])):\n",
        "        print(result[i])\n",
        "else:\n",
        "    for i in range(len(crosswords[0])):\n",
        "        print(crosswords[i])"
      ],
      "metadata": {
        "id": "IM99mZNs0css",
        "colab": {
          "base_uri": "https://localhost:8080/"
        },
        "outputId": "f11c9b9c-0c3b-4f05-ad0d-efbda7048c0d"
      },
      "execution_count": 30,
      "outputs": [
        {
          "output_type": "stream",
          "name": "stdout",
          "text": [
            "['s', 'd', 'o', 'g']\n",
            "['a', 'u', 'a', 'm']\n",
            "['a', 'C', 'A', 'T']\n",
            "['t', 'e', 't', 'k']\n",
            "['s', 'd', 'o', 'g']\n",
            "['C', 'u', 'c', 'm']\n",
            "['A', 'c', 'a', 't']\n",
            "['T', 'e', 't', 'k']\n"
          ]
        }
      ]
    }
  ]
}